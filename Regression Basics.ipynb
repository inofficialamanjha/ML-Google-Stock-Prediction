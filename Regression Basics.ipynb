{
 "cells": [
  {
   "cell_type": "markdown",
   "metadata": {},
   "source": [
    "# Regression Basics\n",
    "\n",
    "For regression to work, there must be a corelation between 'X' and 'Y'.\n",
    "\n",
    "y = mx + c\n",
    "\n",
    "m = { mean(x).mean(y) - mean(xy) } / { mean(x).mean(x) - mean(x.x) }\n",
    "\n",
    "c = mean(y) - mean(x).m"
   ]
  },
  {
   "cell_type": "markdown",
   "metadata": {},
   "source": [
    "# COEFFICIENT OF DETERMINATION\n",
    "\n",
    "r**2 is called the coefficient of determination. Calculated using Mean squared error.\n",
    "\n",
    "r**2 = 1 - Squared Error ( by regression line ) / Squared Error ( compared to mean y )"
   ]
  },
  {
   "cell_type": "code",
   "execution_count": 23,
   "metadata": {},
   "outputs": [],
   "source": [
    "from statistics import mean\n",
    "import numpy as np\n",
    "import matplotlib.pyplot as plt\n",
    "from matplotlib import style\n",
    "\n",
    "style.use('fivethirtyeight') # sets the plot style"
   ]
  },
  {
   "cell_type": "code",
   "execution_count": 5,
   "metadata": {},
   "outputs": [
    {
     "data": {
      "image/png": "[encoded data removed]",
      "text/plain": [
       "<Figure size 432x288 with 1 Axes>"
      ]
     },
     "metadata": {
      "needs_background": "light"
     },
     "output_type": "display_data"
    }
   ],
   "source": [
    "# xs = [1,2,3,4,5,6]\n",
    "# ys = [5,4,6,5,6,7]\n",
    "\n",
    "# plt.scatter(xs,ys)\n",
    "# plt.show()"
   ]
  },
  {
   "cell_type": "code",
   "execution_count": 15,
   "metadata": {},
   "outputs": [],
   "source": [
    "xs = np.array( [1,2,3,4,5,6],dtype = np.float64 )\n",
    "ys = np.array( [5,4,6,5,6,7],dtype = np.float64 )"
   ]
  },
  {
   "cell_type": "code",
   "execution_count": 36,
   "metadata": {},
   "outputs": [],
   "source": [
    "# a function that generates the best fit slope\n",
    "\n",
    "\"\"\"\n",
    "def best_fit_slope(xs,ys):\n",
    "    \n",
    "    return m\n",
    "    \n",
    "# Called the function Skeleton\n",
    "\n",
    "# Order's of expression : PEMDAS ( parenthesis, exponentiaition, multiplication, division, addition, substraction )\n",
    "\n",
    "\"\"\"\n",
    "\n",
    "def best_fit_slope_and_intercept(xs,ys):\n",
    "    \n",
    "    # applying the formula\n",
    "    \n",
    "    m = ( (mean(xs)*mean(ys) - mean(xs*ys)) / \n",
    "         (mean(xs)*mean(xs) - mean(xs*xs)) )\n",
    "    \n",
    "    b = mean(ys) - m * mean(xs)\n",
    "    \n",
    "    return m, b # packing, unpacking concept\n",
    "\n",
    "\n",
    "# for determining coefficient of determination\n",
    "\n",
    "def squared_error(ys_orig, ys_line):\n",
    "    \n",
    "    return sum((ys_line - ys_orig)**2)\n",
    "\n",
    "\n",
    "def coefficient_of_determination(ys_orig,ys_line):\n",
    "    y_mean_line = [mean(ys_orig) for y in ys_orig]\n",
    "    squared_error_regr = squared_error(ys_orig, ys_line)\n",
    "    squared_error_y_mean = squared_error(ys_orig, y_mean_line)\n",
    "    \n",
    "    return 1 - squared_error_regr/squared_error_y_mean"
   ]
  },
  {
   "cell_type": "code",
   "execution_count": 20,
   "metadata": {},
   "outputs": [
    {
     "name": "stdout",
     "output_type": "stream",
     "text": [
      "0.42857142857142866   4.0\n"
     ]
    }
   ],
   "source": [
    "m,b = best_fit_slope_and_intercept(xs,ys)\n",
    "\n",
    "print(m,\" \",b) # returns the slope as 0.428"
   ]
  },
  {
   "cell_type": "code",
   "execution_count": 22,
   "metadata": {},
   "outputs": [],
   "source": [
    "regression_line = [ (m*x)+b for x in xs ] # using the same x's and predicting the hypothesis\n",
    "\n",
    "# same as\n",
    "\n",
    "\"\"\"\n",
    "for x in xs:\n",
    "    regression_line.append(m*x + b)\n",
    "\"\"\""
   ]
  },
  {
   "cell_type": "code",
   "execution_count": 35,
   "metadata": {},
   "outputs": [
    {
     "name": "stdout",
     "output_type": "stream",
     "text": [
      "0.5844155844155845\n"
     ]
    }
   ],
   "source": [
    "# calculating the coefficient of determination\n",
    "\n",
    "r_squared = coefficient_of_determination(ys,regression_line)\n",
    "\n",
    "print(r_squared)"
   ]
  },
  {
   "cell_type": "code",
   "execution_count": 27,
   "metadata": {},
   "outputs": [],
   "source": [
    "predict_x = 8\n",
    "predict_y = (m*predict_x) + b"
   ]
  },
  {
   "cell_type": "code",
   "execution_count": 29,
   "metadata": {},
   "outputs": [
    {
     "data": {
      "image/png": "[encoded data removed]",
      "text/plain": [
       "<Figure size 432x288 with 1 Axes>"
      ]
     },
     "metadata": {},
     "output_type": "display_data"
    }
   ],
   "source": [
    "plt.scatter(xs,ys) # scatter plots dicrete points\n",
    "plt.plot(xs,regression_line) # plots plots a curve\n",
    "\n",
    "plt.scatter(predict_x,predict_y, color = 'green')\n",
    "\n",
    "plt.show() # shows the regression line"
   ]
  }
 ],
 "metadata": {
  "kernelspec": {
   "display_name": "Python 3",
   "language": "python",
   "name": "python3"
  },
  "language_info": {
   "codemirror_mode": {
    "name": "ipython",
    "version": 3
   },
   "file_extension": ".py",
   "mimetype": "text/x-python",
   "name": "python",
   "nbconvert_exporter": "python",
   "pygments_lexer": "ipython3",
   "version": "3.8.7"
  }
 },
 "nbformat": 4,
 "nbformat_minor": 4
}
